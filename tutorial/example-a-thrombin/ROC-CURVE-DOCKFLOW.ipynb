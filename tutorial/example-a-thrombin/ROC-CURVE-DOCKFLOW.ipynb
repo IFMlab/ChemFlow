{
 "cells": [
  {
   "cell_type": "code",
   "execution_count": 1,
   "id": "endless-funeral",
   "metadata": {},
   "outputs": [
    {
     "data": {
      "text/plain": [
       "'/storage/kgalentino/TEST-FINAL-CHEMFLOW/ChemFlow_tutorial_a-thrombin'"
      ]
     },
     "execution_count": 1,
     "metadata": {},
     "output_type": "execute_result"
    }
   ],
   "source": [
    "pwd"
   ]
  },
  {
   "cell_type": "code",
   "execution_count": 2,
   "id": "wooden-bradford",
   "metadata": {},
   "outputs": [],
   "source": [
    "import pandas as pd"
   ]
  },
  {
   "cell_type": "code",
   "execution_count": 3,
   "id": "3e98e0a8",
   "metadata": {},
   "outputs": [],
   "source": [
    "VI = pd.read_csv('tutorial_chemflow/DockFlow/vina/vmd-rec/SORTED-uniq-lig.csv', delim_whitespace=True)\n",
    "PL = pd.read_csv('tutorial_chemflow/DockFlow/plants/vmd-rec/SORTED-uniq-lig.csv', delim_whitespace=True)\n",
    "SM = pd.read_csv('tutorial_chemflow/DockFlow/smina-vina/vmd-rec/SORTED-uniq-lig.csv', delim_whitespace=True)\n",
    "VIN = pd.read_csv('tutorial_chemflow/DockFlow/smina-vinardo//vmd-rec/SORTED-uniq-lig.csv', delim_whitespace=True)\n",
    "QV = pd.read_csv('tutorial_chemflow/DockFlow/qvina/vmd-rec/SORTED-uniq-lig.csv', delim_whitespace=True)"
   ]
  },
  {
   "cell_type": "code",
   "execution_count": 4,
   "id": "db767a03",
   "metadata": {},
   "outputs": [],
   "source": [
    "alldfs=[VI, PL, SM, VIN, QV]"
   ]
  },
  {
   "cell_type": "code",
   "execution_count": 5,
   "id": "b29317db",
   "metadata": {},
   "outputs": [],
   "source": [
    "# Let's remove the second column with the names of our ligand. They are already specified in the first one!\n",
    "\n",
    "for i in alldfs:\n",
    "    i.drop(columns=['LIGAND.1'], inplace=True)"
   ]
  },
  {
   "cell_type": "code",
   "execution_count": 6,
   "id": "af2645b8",
   "metadata": {},
   "outputs": [],
   "source": [
    "# Let's rename the column SCORE/RMSD(SMINA-MIN) in simply \"SCORE\" for comodity\n",
    "for i in alldfs:\n",
    "    i.rename(\n",
    "    columns={'SCORE/RMSD(SMINA-MIN)':\"SCORE\"}\n",
    "          ,inplace=True)\n",
    "    "
   ]
  },
  {
   "cell_type": "code",
   "execution_count": 8,
   "id": "b2ecc550",
   "metadata": {},
   "outputs": [],
   "source": [
    "#Let's make our negative scores positive, in order to do not have problems later on\n",
    "\n",
    "for i in alldfs:\n",
    "    i['SCORE'] = i['SCORE']*-1 \n",
    "    "
   ]
  },
  {
   "cell_type": "code",
   "execution_count": 9,
   "id": "18e53546",
   "metadata": {},
   "outputs": [
    {
     "name": "stdout",
     "output_type": "stream",
     "text": [
      "       LIGAND  SCORE  EXPECTATION  CLASS letter classification\n",
      "0         MID  -10.0            1      1      M              1\n",
      "1         BZT   -9.4            1      1      B              1\n",
      "2   C12473203   -9.2            1      0      C              0\n",
      "3         MIT   -9.1            1      1      M              1\n",
      "4   C12473977   -9.0            1      0      C              0\n",
      "5   C04221783   -8.5            1      0      C              0\n",
      "6   C12716025   -8.5            1      0      C              0\n",
      "7         BT3   -8.4            0      1      B              1\n",
      "8   C06860675   -8.4            0      0      C              0\n",
      "9   C06134461   -8.2            0      0      C              0\n",
      "10  C12467587   -8.0            0      0      C              0\n",
      "11  C12473953   -8.0            0      0      C              0\n",
      "12  C12479497   -8.0            0      0      C              0\n",
      "13        BT1   -7.9            0      1      B              1\n",
      "14  C04237042   -7.9            0      0      C              0\n",
      "15  C12467348   -7.9            0      0      C              0\n",
      "16        BT2   -7.8            0      1      B              1\n",
      "17  C06077463   -7.8            0      0      C              0\n",
      "18  C06822200   -7.7            0      0      C              0\n",
      "19  C06905101   -7.4            0      0      C              0\n",
      "20        BEN   -5.5            0      1      B              1\n",
      "       LIGAND     SCORE letter classification\n",
      "0         BZT -117.6130      B              1\n",
      "1         BT2 -116.9100      B              1\n",
      "2         MID -115.1060      M              1\n",
      "3         BT3 -112.2170      B              1\n",
      "4         BT1 -110.6290      B              1\n",
      "5   C04221783 -106.6810      C              0\n",
      "6   C04237042 -101.9570      C              0\n",
      "7         MIT  -98.4117      M              1\n",
      "8   C06134461  -97.2130      C              0\n",
      "9   C12479497  -94.6961      C              0\n",
      "10  C12716025  -94.3310      C              0\n",
      "11  C12473977  -94.1308      C              0\n",
      "12  C12467348  -92.4401      C              0\n",
      "13  C12467587  -92.2427      C              0\n",
      "14  C12473953  -91.3276      C              0\n",
      "15  C06905101  -91.2630      C              0\n",
      "16  C12473203  -89.9337      C              0\n",
      "17  C06822200  -89.6232      C              0\n",
      "18  C06077463  -86.9175      C              0\n",
      "19  C06860675  -83.9314      C              0\n",
      "20        BEN  -68.2064      B              1\n",
      "       LIGAND      SCORE letter classification\n",
      "0         MID -10.176635      M              1\n",
      "1   C12473203  -9.797509      C              0\n",
      "2   C12473977  -9.769244      C              0\n",
      "3         MIT  -9.600719      M              1\n",
      "4         BZT  -9.440772      B              1\n",
      "5   C04221783  -9.340229      C              0\n",
      "6   C12473953  -8.993350      C              0\n",
      "7   C06860675  -8.948412      C              0\n",
      "8   C04237042  -8.764441      C              0\n",
      "9   C12467587  -8.749173      C              0\n",
      "10  C12716025  -8.687171      C              0\n",
      "11  C06077463  -8.634988      C              0\n",
      "12  C12479497  -8.607375      C              0\n",
      "13  C12467348  -8.548601      C              0\n",
      "14        BT3  -8.442503      B              1\n",
      "15  C06905101  -8.317673      C              0\n",
      "16        BT1  -8.152631      B              1\n",
      "17        BT2  -7.797923      B              1\n",
      "18        BEN  -5.674650      B              1\n",
      "       LIGAND      SCORE letter classification\n",
      "0         BZT -11.508927      B              1\n",
      "1         MID -10.616280      M              1\n",
      "2   C12473953 -10.531472      C              0\n",
      "3   C12716025 -10.475187      C              0\n",
      "4   C12473203 -10.276657      C              0\n",
      "5   C12479497 -10.033258      C              0\n",
      "6   C06860675  -9.933864      C              0\n",
      "7   C12467587  -9.654048      C              0\n",
      "8   C12473977  -9.630666      C              0\n",
      "9   C06134461  -9.590160      C              0\n",
      "10  C06905101  -9.503993      C              0\n",
      "11        BT1  -9.497199      B              1\n",
      "12        BT2  -9.468312      B              1\n",
      "13  C06822200  -9.297303      C              0\n",
      "14  C12467348  -9.268082      C              0\n",
      "15  C04221783  -9.210563      C              0\n",
      "16        BT3  -9.208405      B              1\n",
      "17  C06077463  -9.148954      C              0\n",
      "18  C04237042  -8.293598      C              0\n",
      "19        MIT  -8.173941      M              1\n",
      "20        BEN  -5.359318      B              1\n",
      "       LIGAND  SCORE letter classification\n",
      "0         MID  -10.0      M              1\n",
      "1         BZT   -9.3      B              1\n",
      "2   C12473203   -9.3      C              0\n",
      "3         MIT   -9.2      M              1\n",
      "4   C12473977   -9.0      C              0\n",
      "5   C04221783   -8.7      C              0\n",
      "6   C12716025   -8.5      C              0\n",
      "7         BT3   -8.3      B              1\n",
      "8   C06134461   -8.3      C              0\n",
      "9   C12467587   -8.3      C              0\n",
      "10  C04237042   -8.1      C              0\n",
      "11  C12473953   -8.0      C              0\n",
      "12  C12479497   -7.9      C              0\n",
      "13        BT1   -7.7      B              1\n",
      "14  C06077463   -7.7      C              0\n",
      "15  C06822200   -7.7      C              0\n",
      "16  C06860675   -7.7      C              0\n",
      "17  C12467348   -7.7      C              0\n",
      "18  C06905101   -7.4      C              0\n",
      "19        BT2   -7.1      B              1\n",
      "20        BEN   -5.5      B              1\n"
     ]
    }
   ],
   "source": [
    "# Let's create a new column in each dataframe in which we specify the initial letter of the LIGAND name.\n",
    "# This is needed to classify our compounds in true active or decoys. \n",
    "# We know that the names of our decoys start with a 'C'\n",
    "\n",
    "for i in alldfs:\n",
    "    ii = i\n",
    "    ii['letter'] = i['LIGAND'].str[:1]\n",
    "    classification = []\n",
    "    for row in ii['letter']:\n",
    "        if row == 'C' : classification.append('0') # classification for decoys\n",
    "        elif row != 'C' :   classification.append('1') # classification for actives\n",
    "        else:           classification.append('Error')\n",
    "    ii['classification'] = classification\n",
    "    print(i) \n",
    "    \n"
   ]
  },
  {
   "cell_type": "code",
   "execution_count": 10,
   "id": "60290298",
   "metadata": {},
   "outputs": [
    {
     "name": "stdout",
     "output_type": "stream",
     "text": [
      "[1 1 0 1 0 0 0 1 0 0 0 0 0 1 0 0 1 0 0 0 1]\n",
      "[1 1 1 1 1 0 0 1 0 0 0 0 0 0 0 0 0 0 0 0 1]\n",
      "[1 0 0 1 1 0 0 0 0 0 0 0 0 0 1 0 1 1 1]\n",
      "[1 1 0 0 0 0 0 0 0 0 0 1 1 0 0 0 1 0 0 1 1]\n",
      "[1 1 0 1 0 0 0 1 0 0 0 0 0 1 0 0 0 0 0 1 1]\n"
     ]
    }
   ],
   "source": [
    "# Let's convert class pandas core series of the column classification into int\n",
    "\n",
    "import numpy as np\n",
    "for x in alldfs:\n",
    "    x['classification'] = x['classification'].astype(int)\n",
    "    y_true = np.array(x['classification'])\n",
    "    print(y_true)\n"
   ]
  },
  {
   "cell_type": "code",
   "execution_count": 12,
   "id": "6d465945",
   "metadata": {},
   "outputs": [],
   "source": [
    "# Let's define the function to generate Receiver operating characteristics (ROC) \n",
    "# The number of true actives is 7 and the number of decoys in our dataset is 14. \n",
    "# If you work with different datasets remmeber to modify these values!\n",
    "\n",
    "def roc_tutorial(df, actives=7, decoys=14):\n",
    "    tp = 0\n",
    "    fp = 0\n",
    "    tpr = []\n",
    "    fpr = []\n",
    "\n",
    "    for c in df['classification']: \n",
    "        if c == 1:\n",
    "            tp+=1\n",
    "        elif c == 0:\n",
    "            fp+=1\n",
    "        tpr.append(tp/actives)\n",
    "        fpr.append(fp/decoys)\n",
    "   \n",
    "    \n",
    "    return tpr, fpr\n",
    "    "
   ]
  },
  {
   "cell_type": "code",
   "execution_count": 14,
   "id": "8a7910e1",
   "metadata": {},
   "outputs": [],
   "source": [
    "# Let's run the roc_tutorial function for all the tested docking programs.\n",
    "\n",
    "import pandas as pd\n",
    "import numpy as np\n",
    "from sklearn.model_selection import train_test_split\n",
    "from sklearn.linear_model import LogisticRegression\n",
    "from sklearn import metrics\n",
    "import matplotlib.pyplot as plt\n",
    "\n",
    "#PLANTS\n",
    "aucPL = metrics.roc_auc_score(PL['classification'],  PL['SCORE'])\n",
    "\n",
    "tprPL, fprPL = roc_tutorial(PL)\n",
    "\n",
    "\n",
    "#VINA\n",
    "aucVI = metrics.roc_auc_score(VI['classification'],  VI['SCORE'])\n",
    "\n",
    "tprVI, fprVI = roc_tutorial(VI)\n",
    "\n",
    "# QVINA\n",
    "\n",
    "aucQV = metrics.roc_auc_score(QV['classification'],  QV['SCORE'])\n",
    "\n",
    "tprQV, fprQV = roc_tutorial(QV)\n",
    "\n",
    "# SMINA-VINA\n",
    "\n",
    "aucSM = metrics.roc_auc_score(SM['classification'],  SM['SCORE'])\n",
    "\n",
    "tprSM, fprSM = roc_tutorial(SM)\n",
    "\n",
    "\n",
    "# SMINA-VINARDO\n",
    "\n",
    "aucVIN = metrics.roc_auc_score(VIN['classification'],  VIN['SCORE'])\n",
    "\n",
    "tprVIN, fprVIN = roc_tutorial(VIN)\n"
   ]
  },
  {
   "cell_type": "code",
   "execution_count": 17,
   "id": "aacd2316",
   "metadata": {},
   "outputs": [
    {
     "data": {
      "image/png": "[encoded data removed]",
      "text/plain": [
       "<Figure size 800x600 with 1 Axes>"
      ]
     },
     "metadata": {
      "needs_background": "light"
     },
     "output_type": "display_data"
    }
   ],
   "source": [
    "# PLOT the ROC and AUC for all the docking programs and save the png file in DockFlow folder\n",
    "\n",
    "from matplotlib.pyplot import figure\n",
    "\n",
    "figure(figsize=(8, 6), dpi=100)\n",
    "\n",
    "lw = 3.5\n",
    "\n",
    "plt.plot(fprPL,tprPL,label=\"ROC curve chemPLP (AUC = %0.2f)\" % aucPL, color = 'm', lw =lw)\n",
    "\n",
    "plt.plot(fprVI,tprVI,label=\"ROC curve vina (AUC = %0.2f)\" % aucVI, lw =lw)\n",
    "\n",
    "plt.plot(fprQV,tprQV,label=\"ROC curve qvina-vina (AUC = %0.2f)\" % aucQV, color = 'green', lw =lw)\n",
    "\n",
    "plt.plot(fprSM,tprSM,label=\"ROC curve smina-vina (AUC = %0.2f)\" % aucSM, color = 'r', lw =lw)\n",
    "\n",
    "plt.plot(fprVIN,tprVIN,label=\"ROC curve vinardo (AUC = %0.2f)\" % aucVIN, color = 'yellow', lw =lw)\n",
    "\n",
    "\n",
    "plt.title(\"Receiver operating characteristic (ROC)\\n\", fontweight=\"bold\", fontsize =15)\n",
    "\n",
    "plt.plot([0, 1], [0, 1], color=\"navy\", lw=lw, linestyle=\"--\")\n",
    "\n",
    "plt.tick_params(axis='both', labelsize=13)\n",
    "\n",
    "plt.xlabel(\"\\nFalse Positive Rate\",fontsize =14)\n",
    "\n",
    "plt.ylabel(\"True Positive Rate\\n\",fontsize =14)\n",
    "\n",
    "plt.legend(loc='best')\n",
    "\n",
    "plt.savefig(\"ROC-plants-vina-qvina-smina.png\", dpi=300, facecolor='white', transparent=False)"
   ]
  },
  {
   "cell_type": "code",
   "execution_count": null,
   "id": "2cfe8657",
   "metadata": {},
   "outputs": [],
   "source": []
  }
 ],
 "metadata": {
  "kernelspec": {
   "display_name": "Python 3",
   "language": "python",
   "name": "python3"
  },
  "language_info": {
   "codemirror_mode": {
    "name": "ipython",
    "version": 3
   },
   "file_extension": ".py",
   "mimetype": "text/x-python",
   "name": "python",
   "nbconvert_exporter": "python",
   "pygments_lexer": "ipython3",
   "version": "3.9.7"
  }
 },
 "nbformat": 4,
 "nbformat_minor": 5
}
