{
 "cells": [
  {
   "cell_type": "markdown",
   "metadata": {},
   "source": [
    "# Description"
   ]
  },
  {
   "cell_type": "markdown",
   "metadata": {},
   "source": [
    "Scenario :\n",
    "* 1 receptor\n",
    "* Results from DockFlow with PLANTS\n",
    "\n",
    "Requirements :\n",
    "* Run DockFlow\n",
    "* Fill the User Input section of this notebook\n",
    "* Click on the \"Cell\" tab, \"Run All\"\n",
    "\n",
    "Output :\n",
    "* Tables\n",
    "* Bar charts\n",
    "* RMSD calculations"
   ]
  },
  {
   "cell_type": "markdown",
   "metadata": {},
   "source": [
    "# User Input"
   ]
  },
  {
   "cell_type": "code",
   "execution_count": 1,
   "metadata": {
    "code_folding": [],
    "collapsed": true
   },
   "outputs": [],
   "source": [
    "# Path to data\n",
    "# The notebook should be ran from the working directory folder.\n",
    "# You can change the path to the summary folder here.\n",
    "# Default : path = \".\"\n",
    "path = \".\""
   ]
  },
  {
   "cell_type": "code",
   "execution_count": 114,
   "metadata": {
    "code_folding": [],
    "collapsed": true
   },
   "outputs": [],
   "source": [
    "# RMSD cutoffs to consider poses as :\n",
    "# good : close to the crystallographic structure --> between 0.0 and X (excluded) angstroms \n",
    "# medium : between X and Y (excluded) angstroms \n",
    "# bad : very different from the crystallographic structure : Y to Z (excluded) angstroms\n",
    "\n",
    "# poses with a RMSD strictly below this value are good\n",
    "RMSD_good = 2.0\n",
    "# poses with a RMSD above or equal to the previous limit, and below the following limit are medium\n",
    "RMSD_medium = 3.0\n",
    "# poses with a RMSD above or equal to the previous limit, and below the following limit are bad\n",
    "RMSD_bad = 5.0\n",
    "# poses with a RMSD above the previous value are discarded "
   ]
  },
  {
   "cell_type": "code",
   "execution_count": null,
   "metadata": {
    "code_folding": [
     0
    ],
    "collapsed": true
   },
   "outputs": [],
   "source": [
    "# Range of selection of the top X docking poses (sorted by PLANTS score) for the protocol validation\n",
    "\n",
    "top_list = [1,3,5,10]"
   ]
  },
  {
   "cell_type": "code",
   "execution_count": 2,
   "metadata": {
    "collapsed": true
   },
   "outputs": [],
   "source": [
    "# Save folder for tables and graphs\n",
    "# By default, the save folder will be created inside the work directory\n",
    "# as \"ReportFlow/PLANTS_VS_decoys_enrichment\"\n",
    "# You can change the path and names of the save folder here.\n",
    "# Default : save_folder = \"./PLANTS_docking_rescoring_decoys_actives\"\n",
    "save_folder = \"./PLANTS_docking\""
   ]
  },
  {
   "cell_type": "markdown",
   "metadata": {},
   "source": [
    "# Initialization"
   ]
  },
  {
   "cell_type": "code",
   "execution_count": 3,
   "metadata": {
    "code_folding": [
     0
    ]
   },
   "outputs": [
    {
     "data": {
      "text/html": [
       "<script>\n",
       "code_show=true; \n",
       "function code_toggle() {\n",
       " if (code_show){\n",
       " $('div.input').hide();\n",
       " } else {\n",
       " $('div.input').show();\n",
       " }\n",
       " code_show = !code_show\n",
       "} \n",
       "$( document ).ready(code_toggle);\n",
       "</script>\n",
       "The raw code for this IPython notebook is by default hidden for easier reading.\n",
       "To toggle on/off the raw code, click <a href=\"javascript:code_toggle()\">here</a>."
      ],
      "text/plain": [
       "<IPython.core.display.HTML object>"
      ]
     },
     "execution_count": 3,
     "metadata": {},
     "output_type": "execute_result"
    }
   ],
   "source": [
    "# Only show output, hide code.\n",
    "from IPython.display import HTML\n",
    "HTML('''<script>\n",
    "code_show=true; \n",
    "function code_toggle() {\n",
    " if (code_show){\n",
    " $('div.input').hide();\n",
    " } else {\n",
    " $('div.input').show();\n",
    " }\n",
    " code_show = !code_show\n",
    "} \n",
    "$( document ).ready(code_toggle);\n",
    "</script>\n",
    "The raw code for this IPython notebook is by default hidden for easier reading.\n",
    "To toggle on/off the raw code, click <a href=\"javascript:code_toggle()\">here</a>.''')"
   ]
  },
  {
   "cell_type": "code",
   "execution_count": 4,
   "metadata": {
    "code_folding": [
     0
    ],
    "collapsed": true
   },
   "outputs": [],
   "source": [
    "# Import python modules\n",
    "\n",
    "%matplotlib inline\n",
    "\n",
    "from matplotlib import rcParams\n",
    "rcParams['mathtext.default'] = 'tt'\n",
    "\n",
    "import numpy as np\n",
    "import matplotlib.pyplot as plt\n",
    "import pandas as pd\n",
    "import seaborn as sns\n",
    "sns.set_context(\"notebook\", font_scale=1.4)\n",
    "from sklearn.metrics import auc\n",
    "import os.path"
   ]
  },
  {
   "cell_type": "markdown",
   "metadata": {},
   "source": [
    "## Process user input"
   ]
  },
  {
   "cell_type": "code",
   "execution_count": 5,
   "metadata": {
    "code_folding": [
     0
    ],
    "collapsed": true
   },
   "outputs": [],
   "source": [
    "# Create a list of ligands based on folder name\n",
    "dockfile_list = ! ls -l {path}/docking/ | awk '/^d/{{print $$9}}'"
   ]
  },
  {
   "cell_type": "code",
   "execution_count": 115,
   "metadata": {
    "code_folding": [
     0
    ],
    "collapsed": true
   },
   "outputs": [],
   "source": [
    "# Create dictionnary for the RMSD ranges\n",
    "rmsd_limit = {'good'  : [0.0,RMSD_good],\n",
    "             'medium' : [RMSD_good,RMSD_medium],\n",
    "             'bad' : [RMSD_medium,RMSD_bad]}"
   ]
  },
  {
   "cell_type": "code",
   "execution_count": 6,
   "metadata": {
    "code_folding": [
     0
    ],
    "collapsed": true
   },
   "outputs": [],
   "source": [
    "# Create the save folder\n",
    "! mkdir -p $save_folder"
   ]
  },
  {
   "cell_type": "code",
   "execution_count": 8,
   "metadata": {
    "code_folding": [
     0
    ]
   },
   "outputs": [
    {
     "name": "stdout",
     "output_type": "stream",
     "text": [
      "Results detected : PLANTS\n"
     ]
    }
   ],
   "source": [
    "# Check results available\n",
    "method_list = []\n",
    "scores_list = []\n",
    "\n",
    "# Docking\n",
    "f = '{}/docking/ranking_sorted.csv'.format(path)\n",
    "if os.path.isfile(f):  \n",
    "    scores_list.append('PLANTS')\n",
    "    print('Results detected : {}'.format(' - '.join(scores_list)))\n",
    "    \n",
    "# if docking results don't exist    \n",
    "else:\n",
    "    print(\"ERROR : {}/docking does not contain the ranking_sorted.csv file\".format(path))"
   ]
  },
  {
   "cell_type": "markdown",
   "metadata": {},
   "source": [
    "## Create Dataframes"
   ]
  },
  {
   "cell_type": "code",
   "execution_count": 12,
   "metadata": {
    "code_folding": [
     0
    ],
    "collapsed": true,
    "scrolled": true
   },
   "outputs": [],
   "source": [
    "# PLANTS docking results\n",
    "f = '{}/docking/ranking_sorted.csv'.format(path)\n",
    "plants_detail = pd.read_csv(f, header=0)\n",
    "plants_detail.rename(columns = {'TOTAL_SCORE' : 'PLANTS', 'LIGAND_ENTRY' : 'POSE'}, inplace=True)\n",
    "\n",
    "# Assign ligand name by splitting the pose name\n",
    "plants_detail = plants_detail.assign(LIGAND = plants_detail.POSE.apply(lambda x: x.split('_')[0]))\n",
    "# Add rank\n",
    "plants_detail.reset_index(inplace=True)\n",
    "plants_detail.rename(columns = {'index' : 'PLANTS_RANK'}, inplace=True)\n",
    "    \n",
    "plants = plants_detail[['LIGAND','POSE','PLANTS_RANK','PLANTS']]"
   ]
  },
  {
   "cell_type": "code",
   "execution_count": 10,
   "metadata": {
    "code_folding": [
     0
    ],
    "collapsed": true
   },
   "outputs": [],
   "source": [
    "# Create actual ligand list\n",
    "lig_list = plants['LIGAND'].unique().tolist()"
   ]
  },
  {
   "cell_type": "code",
   "execution_count": 76,
   "metadata": {
    "code_folding": [
     0
    ]
   },
   "outputs": [],
   "source": [
    "# RMSD\n",
    "\n",
    "reference_folder = ! grep \"lig_folder=\" {path}/DockFlow.config\n",
    "reference_folder = reference_folder[0].split('lig_folder=\"')[1][:-1]\n",
    "reference_list = ! cd {reference_folder}; ls -v *.mol2\n",
    "\n",
    "rmsd = pd.DataFrame()\n",
    "\n",
    "for reference in reference_list:\n",
    "    ref_file = '{}/{}'.format(reference_folder,reference)\n",
    "    output_file = '{}/rmsd_{}.csv'.format(reference_folder,reference)\n",
    "    # Remove old output\n",
    "    ! rm -f {output_file}\n",
    "    # Compute with Hungarian Algorithm\n",
    "    ! RMSDFlow -r {ref_file} -i {path}/docking/lig/*.mol2 -a ha -o {output_file} -s\n",
    "    # Read\n",
    "    temp = pd.read_csv(output_file, header=0)\n",
    "    rmsd = pd.concat([rmsd, temp])\n",
    "\n",
    "# drop unused columns\n",
    "rmsd.drop(['Number of atoms read', 'Number of atoms in molecule', 'Reference'], axis=1, inplace=True)\n",
    "\n",
    "# Add rank by RMSD\n",
    "rmsd.sort_values('RMSD', inplace=True)\n",
    "rmsd.reset_index(inplace=True, drop=True)\n",
    "rmsd.reset_index(inplace=True)\n",
    "rmsd.rename(columns = {'index' : 'RMSD_RANK'}, inplace=True)\n",
    "# Rename\n",
    "rmsd.rename(columns = {'Input' : 'POSE'}, inplace=True)\n",
    "# Reorganize\n",
    "rmsd = rmsd[['POSE','RMSD_RANK','RMSD']]"
   ]
  },
  {
   "cell_type": "code",
   "execution_count": 128,
   "metadata": {
    "code_folding": [
     0
    ]
   },
   "outputs": [],
   "source": [
    "# Match all results\n",
    "\n",
    "# PLANTS\n",
    "all_scores = plants.copy()\n",
    "\n",
    "# RMSD\n",
    "all_scores = pd.merge(all_scores, rmsd, how='left', on=['POSE'] )\n",
    "\n",
    "# add state (RMSD below or above the limit)\n",
    "all_scores = all_scores.assign(DESCRIPTION = all_scores.RMSD.apply(lambda x: \n",
    "                                                                   'good' if (x >= rmsd_limit['good'][0] and x < rmsd_limit['good'][1]) \n",
    "                                                                   else 'medium' if (x >= rmsd_limit['medium'][0] and x < rmsd_limit['medium'][1])\n",
    "                                                                   else 'bad' if (x >= rmsd_limit['bad'][0] and x < rmsd_limit['bad'][1])\n",
    "                                                                  else 'discarded'))\n",
    "    \n",
    "# only poses with values\n",
    "all_subset = all_scores.dropna()"
   ]
  },
  {
   "cell_type": "code",
   "execution_count": 129,
   "metadata": {
    "code_folding": [
     0
    ],
    "collapsed": true
   },
   "outputs": [],
   "source": [
    "# Melted dataframes\n",
    "\n",
    "# for score\n",
    "df_scores = pd.melt(all_scores, id_vars=['LIGAND','POSE','DESCRIPTION'], \n",
    "             value_vars=['PLANTS', 'RMSD'], var_name='METHOD', value_name='SCORE')\n",
    "# for rank\n",
    "df_rank = pd.melt(all_scores, id_vars=['LIGAND','POSE','DESCRIPTION'], \n",
    "             value_vars=['{}_RANK'.format(i) for i in ['PLANTS', 'RMSD']], var_name='METHOD', value_name='RANK')\n",
    "# rename method to remove \"_RANK\"\n",
    "df_rank['METHOD'] = df_rank['METHOD'].apply(lambda x: x.split('_RANK')[0])\n",
    "df = pd.merge(df_scores, df_rank, how='left', on=['LIGAND','POSE','DESCRIPTION','METHOD'])\n",
    "\n",
    "# subset only keeping poses with values\n",
    "# for score\n",
    "df_scores_subset = pd.melt(all_subset, id_vars=['LIGAND','POSE','DESCRIPTION'], \n",
    "             value_vars=['PLANTS', 'RMSD'], var_name='METHOD', value_name='SCORE')\n",
    "# for rank\n",
    "df_rank_subset = pd.melt(all_subset, id_vars=['LIGAND','POSE','DESCRIPTION'], \n",
    "             value_vars=['{}_RANK'.format(i) for i in ['PLANTS', 'RMSD']], var_name='METHOD', value_name='RANK')\n",
    "# rename method to remove \"_RANK\"\n",
    "df_rank_subset['METHOD'] = df_rank_subset['METHOD'].apply(lambda x: x.split('_RANK')[0])\n",
    "df_subset = pd.merge(df_scores_subset, df_rank_subset, how='left', on=['LIGAND','POSE','DESCRIPTION','METHOD'])"
   ]
  },
  {
   "cell_type": "code",
   "execution_count": 130,
   "metadata": {
    "code_folding": [
     0
    ]
   },
   "outputs": [],
   "source": [
    "# Subset of poses with an RMSD below the defined limit\n",
    "\n",
    "rmsd_good_subset = all_subset.loc[all_subset['RMSD'] <= RMSD_good]"
   ]
  },
  {
   "cell_type": "code",
   "execution_count": 204,
   "metadata": {
    "code_folding": [
     0
    ],
    "collapsed": true
   },
   "outputs": [],
   "source": [
    "# Count occurencies of RMSD within range for each top range selection\n",
    "\n",
    "data = []\n",
    "\n",
    "for description in rmsd_limit:\n",
    "    for top in top_list:\n",
    "        temp = all_subset.sort_values('PLANTS')\n",
    "        occ = len(temp.head(top).loc[ temp['DESCRIPTION'] == description])\n",
    "        top_string = 'Top {}'.format(top)\n",
    "        data.append([description,top_string,occ])\n",
    "\n",
    "occurency = pd.DataFrame(data, columns=['Description','Selection Range', 'Occurency'])"
   ]
  },
  {
   "cell_type": "code",
   "execution_count": 132,
   "metadata": {
    "code_folding": [
     0
    ],
    "collapsed": true
   },
   "outputs": [],
   "source": [
    "# Color palettes\n",
    "# Create color palette and dictionnary based on the ligand list for the plots\n",
    "color_list = sns.husl_palette(len(lig_list),0,0.8,0.65)\n",
    "\n",
    "# Color list based on state (RMSD below or above the limit)       \n",
    "state_list = ['good', 'medium','bad','discarded']\n",
    "state_color_list = ['green','blue','orange','red']\n",
    "\n",
    "# Create a hatch list for plots based on the method list\n",
    "hatch_list = ['','/', '\\\\', '-', '.', '//']\n",
    "method_hatch_list = [hatch_list[i] for i in range(2)]\n",
    "method_color_list = [[c for c in sns.color_palette(\"deep\")][i] for i in range(2)]\n",
    "\n",
    "# Set the new custom color list\n",
    "sns.set_palette(sns.color_palette('deep'))"
   ]
  },
  {
   "cell_type": "markdown",
   "metadata": {},
   "source": [
    "# Results"
   ]
  },
  {
   "cell_type": "code",
   "execution_count": 133,
   "metadata": {
    "scrolled": true
   },
   "outputs": [
    {
     "data": {
      "text/html": [
       "<div>\n",
       "<table border=\"1\" class=\"dataframe\">\n",
       "  <thead>\n",
       "    <tr style=\"text-align: right;\">\n",
       "      <th></th>\n",
       "      <th>LIGAND</th>\n",
       "      <th>POSE</th>\n",
       "      <th>PLANTS_RANK</th>\n",
       "      <th>PLANTS</th>\n",
       "      <th>RMSD_RANK</th>\n",
       "      <th>RMSD</th>\n",
       "      <th>DESCRIPTION</th>\n",
       "    </tr>\n",
       "  </thead>\n",
       "  <tbody>\n",
       "    <tr>\n",
       "      <th>0</th>\n",
       "      <td>XK2</td>\n",
       "      <td>XK2_entry_00001_conf_01</td>\n",
       "      <td>0</td>\n",
       "      <td>-150.5730</td>\n",
       "      <td>1</td>\n",
       "      <td>0.650163</td>\n",
       "      <td>good</td>\n",
       "    </tr>\n",
       "    <tr>\n",
       "      <th>1</th>\n",
       "      <td>XK2</td>\n",
       "      <td>XK2_entry_00001_conf_02</td>\n",
       "      <td>1</td>\n",
       "      <td>-150.4150</td>\n",
       "      <td>0</td>\n",
       "      <td>0.584528</td>\n",
       "      <td>good</td>\n",
       "    </tr>\n",
       "    <tr>\n",
       "      <th>2</th>\n",
       "      <td>XK2</td>\n",
       "      <td>XK2_entry_00001_conf_03</td>\n",
       "      <td>2</td>\n",
       "      <td>-112.0210</td>\n",
       "      <td>5</td>\n",
       "      <td>1.465296</td>\n",
       "      <td>good</td>\n",
       "    </tr>\n",
       "    <tr>\n",
       "      <th>3</th>\n",
       "      <td>XK2</td>\n",
       "      <td>XK2_entry_00001_conf_04</td>\n",
       "      <td>3</td>\n",
       "      <td>-111.9560</td>\n",
       "      <td>7</td>\n",
       "      <td>1.543130</td>\n",
       "      <td>good</td>\n",
       "    </tr>\n",
       "    <tr>\n",
       "      <th>4</th>\n",
       "      <td>XK2</td>\n",
       "      <td>XK2_entry_00001_conf_05</td>\n",
       "      <td>4</td>\n",
       "      <td>-109.9670</td>\n",
       "      <td>13</td>\n",
       "      <td>1.934825</td>\n",
       "      <td>good</td>\n",
       "    </tr>\n",
       "    <tr>\n",
       "      <th>5</th>\n",
       "      <td>XK2</td>\n",
       "      <td>XK2_entry_00001_conf_06</td>\n",
       "      <td>5</td>\n",
       "      <td>-109.2770</td>\n",
       "      <td>15</td>\n",
       "      <td>2.803291</td>\n",
       "      <td>medium</td>\n",
       "    </tr>\n",
       "    <tr>\n",
       "      <th>6</th>\n",
       "      <td>XK2</td>\n",
       "      <td>XK2_entry_00001_conf_07</td>\n",
       "      <td>6</td>\n",
       "      <td>-108.9950</td>\n",
       "      <td>12</td>\n",
       "      <td>1.902684</td>\n",
       "      <td>good</td>\n",
       "    </tr>\n",
       "    <tr>\n",
       "      <th>7</th>\n",
       "      <td>XK2</td>\n",
       "      <td>XK2_entry_00001_conf_08</td>\n",
       "      <td>7</td>\n",
       "      <td>-108.7630</td>\n",
       "      <td>9</td>\n",
       "      <td>1.792930</td>\n",
       "      <td>good</td>\n",
       "    </tr>\n",
       "    <tr>\n",
       "      <th>8</th>\n",
       "      <td>XK2</td>\n",
       "      <td>XK2_entry_00001_conf_09</td>\n",
       "      <td>8</td>\n",
       "      <td>-108.1250</td>\n",
       "      <td>8</td>\n",
       "      <td>1.765835</td>\n",
       "      <td>good</td>\n",
       "    </tr>\n",
       "    <tr>\n",
       "      <th>9</th>\n",
       "      <td>XK2</td>\n",
       "      <td>XK2_entry_00001_conf_10</td>\n",
       "      <td>9</td>\n",
       "      <td>-106.6970</td>\n",
       "      <td>10</td>\n",
       "      <td>1.823137</td>\n",
       "      <td>good</td>\n",
       "    </tr>\n",
       "    <tr>\n",
       "      <th>10</th>\n",
       "      <td>XK2</td>\n",
       "      <td>XK2_entry_00001_conf_11</td>\n",
       "      <td>10</td>\n",
       "      <td>-106.5570</td>\n",
       "      <td>11</td>\n",
       "      <td>1.883490</td>\n",
       "      <td>good</td>\n",
       "    </tr>\n",
       "    <tr>\n",
       "      <th>11</th>\n",
       "      <td>XK2</td>\n",
       "      <td>XK2_entry_00001_conf_12</td>\n",
       "      <td>11</td>\n",
       "      <td>-106.2520</td>\n",
       "      <td>14</td>\n",
       "      <td>2.782524</td>\n",
       "      <td>medium</td>\n",
       "    </tr>\n",
       "    <tr>\n",
       "      <th>12</th>\n",
       "      <td>XK2</td>\n",
       "      <td>XK2_entry_00001_conf_13</td>\n",
       "      <td>12</td>\n",
       "      <td>-105.4680</td>\n",
       "      <td>21</td>\n",
       "      <td>3.004387</td>\n",
       "      <td>bad</td>\n",
       "    </tr>\n",
       "    <tr>\n",
       "      <th>13</th>\n",
       "      <td>XK2</td>\n",
       "      <td>XK2_entry_00001_conf_14</td>\n",
       "      <td>13</td>\n",
       "      <td>-100.6210</td>\n",
       "      <td>2</td>\n",
       "      <td>1.320802</td>\n",
       "      <td>good</td>\n",
       "    </tr>\n",
       "    <tr>\n",
       "      <th>14</th>\n",
       "      <td>XK2</td>\n",
       "      <td>XK2_entry_00001_conf_15</td>\n",
       "      <td>14</td>\n",
       "      <td>-98.4154</td>\n",
       "      <td>22</td>\n",
       "      <td>3.071215</td>\n",
       "      <td>bad</td>\n",
       "    </tr>\n",
       "    <tr>\n",
       "      <th>15</th>\n",
       "      <td>XK2</td>\n",
       "      <td>XK2_entry_00001_conf_16</td>\n",
       "      <td>15</td>\n",
       "      <td>-98.0111</td>\n",
       "      <td>24</td>\n",
       "      <td>3.098733</td>\n",
       "      <td>bad</td>\n",
       "    </tr>\n",
       "    <tr>\n",
       "      <th>16</th>\n",
       "      <td>XK2</td>\n",
       "      <td>XK2_entry_00001_conf_17</td>\n",
       "      <td>16</td>\n",
       "      <td>-97.6406</td>\n",
       "      <td>3</td>\n",
       "      <td>1.388860</td>\n",
       "      <td>good</td>\n",
       "    </tr>\n",
       "    <tr>\n",
       "      <th>17</th>\n",
       "      <td>XK2</td>\n",
       "      <td>XK2_entry_00001_conf_18</td>\n",
       "      <td>17</td>\n",
       "      <td>-97.5917</td>\n",
       "      <td>19</td>\n",
       "      <td>2.888673</td>\n",
       "      <td>medium</td>\n",
       "    </tr>\n",
       "    <tr>\n",
       "      <th>18</th>\n",
       "      <td>XK2</td>\n",
       "      <td>XK2_entry_00001_conf_19</td>\n",
       "      <td>18</td>\n",
       "      <td>-97.5275</td>\n",
       "      <td>16</td>\n",
       "      <td>2.819598</td>\n",
       "      <td>medium</td>\n",
       "    </tr>\n",
       "    <tr>\n",
       "      <th>19</th>\n",
       "      <td>XK2</td>\n",
       "      <td>XK2_entry_00001_conf_20</td>\n",
       "      <td>19</td>\n",
       "      <td>-97.4759</td>\n",
       "      <td>6</td>\n",
       "      <td>1.473905</td>\n",
       "      <td>good</td>\n",
       "    </tr>\n",
       "    <tr>\n",
       "      <th>20</th>\n",
       "      <td>XK2</td>\n",
       "      <td>XK2_entry_00001_conf_21</td>\n",
       "      <td>20</td>\n",
       "      <td>-96.6927</td>\n",
       "      <td>4</td>\n",
       "      <td>1.458597</td>\n",
       "      <td>good</td>\n",
       "    </tr>\n",
       "    <tr>\n",
       "      <th>21</th>\n",
       "      <td>XK2</td>\n",
       "      <td>XK2_entry_00001_conf_22</td>\n",
       "      <td>21</td>\n",
       "      <td>-96.6139</td>\n",
       "      <td>23</td>\n",
       "      <td>3.085163</td>\n",
       "      <td>bad</td>\n",
       "    </tr>\n",
       "    <tr>\n",
       "      <th>22</th>\n",
       "      <td>XK2</td>\n",
       "      <td>XK2_entry_00001_conf_23</td>\n",
       "      <td>22</td>\n",
       "      <td>-94.1791</td>\n",
       "      <td>17</td>\n",
       "      <td>2.850438</td>\n",
       "      <td>medium</td>\n",
       "    </tr>\n",
       "    <tr>\n",
       "      <th>23</th>\n",
       "      <td>XK2</td>\n",
       "      <td>XK2_entry_00001_conf_24</td>\n",
       "      <td>23</td>\n",
       "      <td>-93.5771</td>\n",
       "      <td>18</td>\n",
       "      <td>2.860549</td>\n",
       "      <td>medium</td>\n",
       "    </tr>\n",
       "    <tr>\n",
       "      <th>24</th>\n",
       "      <td>XK2</td>\n",
       "      <td>XK2_entry_00001_conf_25</td>\n",
       "      <td>24</td>\n",
       "      <td>-93.0926</td>\n",
       "      <td>20</td>\n",
       "      <td>2.953979</td>\n",
       "      <td>medium</td>\n",
       "    </tr>\n",
       "  </tbody>\n",
       "</table>\n",
       "</div>"
      ],
      "text/plain": [
       "   LIGAND                     POSE  PLANTS_RANK    PLANTS  RMSD_RANK  \\\n",
       "0     XK2  XK2_entry_00001_conf_01            0 -150.5730          1   \n",
       "1     XK2  XK2_entry_00001_conf_02            1 -150.4150          0   \n",
       "2     XK2  XK2_entry_00001_conf_03            2 -112.0210          5   \n",
       "3     XK2  XK2_entry_00001_conf_04            3 -111.9560          7   \n",
       "4     XK2  XK2_entry_00001_conf_05            4 -109.9670         13   \n",
       "5     XK2  XK2_entry_00001_conf_06            5 -109.2770         15   \n",
       "6     XK2  XK2_entry_00001_conf_07            6 -108.9950         12   \n",
       "7     XK2  XK2_entry_00001_conf_08            7 -108.7630          9   \n",
       "8     XK2  XK2_entry_00001_conf_09            8 -108.1250          8   \n",
       "9     XK2  XK2_entry_00001_conf_10            9 -106.6970         10   \n",
       "10    XK2  XK2_entry_00001_conf_11           10 -106.5570         11   \n",
       "11    XK2  XK2_entry_00001_conf_12           11 -106.2520         14   \n",
       "12    XK2  XK2_entry_00001_conf_13           12 -105.4680         21   \n",
       "13    XK2  XK2_entry_00001_conf_14           13 -100.6210          2   \n",
       "14    XK2  XK2_entry_00001_conf_15           14  -98.4154         22   \n",
       "15    XK2  XK2_entry_00001_conf_16           15  -98.0111         24   \n",
       "16    XK2  XK2_entry_00001_conf_17           16  -97.6406          3   \n",
       "17    XK2  XK2_entry_00001_conf_18           17  -97.5917         19   \n",
       "18    XK2  XK2_entry_00001_conf_19           18  -97.5275         16   \n",
       "19    XK2  XK2_entry_00001_conf_20           19  -97.4759          6   \n",
       "20    XK2  XK2_entry_00001_conf_21           20  -96.6927          4   \n",
       "21    XK2  XK2_entry_00001_conf_22           21  -96.6139         23   \n",
       "22    XK2  XK2_entry_00001_conf_23           22  -94.1791         17   \n",
       "23    XK2  XK2_entry_00001_conf_24           23  -93.5771         18   \n",
       "24    XK2  XK2_entry_00001_conf_25           24  -93.0926         20   \n",
       "\n",
       "        RMSD DESCRIPTION  \n",
       "0   0.650163        good  \n",
       "1   0.584528        good  \n",
       "2   1.465296        good  \n",
       "3   1.543130        good  \n",
       "4   1.934825        good  \n",
       "5   2.803291      medium  \n",
       "6   1.902684        good  \n",
       "7   1.792930        good  \n",
       "8   1.765835        good  \n",
       "9   1.823137        good  \n",
       "10  1.883490        good  \n",
       "11  2.782524      medium  \n",
       "12  3.004387         bad  \n",
       "13  1.320802        good  \n",
       "14  3.071215         bad  \n",
       "15  3.098733         bad  \n",
       "16  1.388860        good  \n",
       "17  2.888673      medium  \n",
       "18  2.819598      medium  \n",
       "19  1.473905        good  \n",
       "20  1.458597        good  \n",
       "21  3.085163         bad  \n",
       "22  2.850438      medium  \n",
       "23  2.860549      medium  \n",
       "24  2.953979      medium  "
      ]
     },
     "execution_count": 133,
     "metadata": {},
     "output_type": "execute_result"
    }
   ],
   "source": [
    "all_scores"
   ]
  },
  {
   "cell_type": "markdown",
   "metadata": {},
   "source": [
    "## Summary"
   ]
  },
  {
   "cell_type": "code",
   "execution_count": 134,
   "metadata": {},
   "outputs": [
    {
     "data": {
      "text/html": [
       "<div>\n",
       "<table border=\"1\" class=\"dataframe\">\n",
       "  <thead>\n",
       "    <tr style=\"text-align: right;\">\n",
       "      <th></th>\n",
       "      <th>PLANTS_RANK</th>\n",
       "      <th>PLANTS</th>\n",
       "      <th>RMSD_RANK</th>\n",
       "      <th>RMSD</th>\n",
       "    </tr>\n",
       "  </thead>\n",
       "  <tbody>\n",
       "    <tr>\n",
       "      <th>count</th>\n",
       "      <td>25.000000</td>\n",
       "      <td>25.000000</td>\n",
       "      <td>25.000000</td>\n",
       "      <td>25.000000</td>\n",
       "    </tr>\n",
       "    <tr>\n",
       "      <th>mean</th>\n",
       "      <td>12.000000</td>\n",
       "      <td>-106.260184</td>\n",
       "      <td>12.000000</td>\n",
       "      <td>2.128269</td>\n",
       "    </tr>\n",
       "    <tr>\n",
       "      <th>std</th>\n",
       "      <td>7.359801</td>\n",
       "      <td>14.647112</td>\n",
       "      <td>7.359801</td>\n",
       "      <td>0.793304</td>\n",
       "    </tr>\n",
       "    <tr>\n",
       "      <th>min</th>\n",
       "      <td>0.000000</td>\n",
       "      <td>-150.573000</td>\n",
       "      <td>0.000000</td>\n",
       "      <td>0.584528</td>\n",
       "    </tr>\n",
       "    <tr>\n",
       "      <th>25%</th>\n",
       "      <td>6.000000</td>\n",
       "      <td>-108.995000</td>\n",
       "      <td>6.000000</td>\n",
       "      <td>1.473905</td>\n",
       "    </tr>\n",
       "    <tr>\n",
       "      <th>50%</th>\n",
       "      <td>12.000000</td>\n",
       "      <td>-105.468000</td>\n",
       "      <td>12.000000</td>\n",
       "      <td>1.902684</td>\n",
       "    </tr>\n",
       "    <tr>\n",
       "      <th>75%</th>\n",
       "      <td>18.000000</td>\n",
       "      <td>-97.527500</td>\n",
       "      <td>18.000000</td>\n",
       "      <td>2.860549</td>\n",
       "    </tr>\n",
       "    <tr>\n",
       "      <th>max</th>\n",
       "      <td>24.000000</td>\n",
       "      <td>-93.092600</td>\n",
       "      <td>24.000000</td>\n",
       "      <td>3.098733</td>\n",
       "    </tr>\n",
       "  </tbody>\n",
       "</table>\n",
       "</div>"
      ],
      "text/plain": [
       "       PLANTS_RANK      PLANTS  RMSD_RANK       RMSD\n",
       "count    25.000000   25.000000  25.000000  25.000000\n",
       "mean     12.000000 -106.260184  12.000000   2.128269\n",
       "std       7.359801   14.647112   7.359801   0.793304\n",
       "min       0.000000 -150.573000   0.000000   0.584528\n",
       "25%       6.000000 -108.995000   6.000000   1.473905\n",
       "50%      12.000000 -105.468000  12.000000   1.902684\n",
       "75%      18.000000  -97.527500  18.000000   2.860549\n",
       "max      24.000000  -93.092600  24.000000   3.098733"
      ]
     },
     "execution_count": 134,
     "metadata": {},
     "output_type": "execute_result"
    }
   ],
   "source": [
    "all_scores.describe()"
   ]
  },
  {
   "cell_type": "markdown",
   "metadata": {},
   "source": [
    "## Plots"
   ]
  },
  {
   "cell_type": "code",
   "execution_count": 166,
   "metadata": {
    "code_folding": [
     0
    ],
    "scrolled": false
   },
   "outputs": [
    {
     "data": {
      "image/png": "[encoded data removed]",
      "text/plain": [
       "<matplotlib.figure.Figure at 0x7f9745881470>"
      ]
     },
     "metadata": {},
     "output_type": "display_data"
    }
   ],
   "source": [
    "# Sorted barplot colored by RMSD range\n",
    "\n",
    "def grid_barplot(data,size=15,aspect=3,col_wrap=1):\n",
    "    aspect = aspect\n",
    "    size_x = size\n",
    "    size_y = size_x*aspect\n",
    "    methods = ['PLANTS']\n",
    "    num_subplots = 1\n",
    "    num_cols = col_wrap\n",
    "    num_rows = num_subplots // num_cols\n",
    "    num_rows += num_subplots % num_cols\n",
    "    position = range(1, num_subplots+1)\n",
    "\n",
    "    fig = plt.figure(figsize=(size_x,size_y))\n",
    "    for method,v in zip(methods, range(num_subplots)):\n",
    "        data_subset = data.sort_values(method)\n",
    "        order = data_subset.POSE.tolist()\n",
    "        colors = [state_color_list[0] if (x == 'good') \n",
    "                  else state_color_list[1] if (x == 'medium') \n",
    "                  else state_color_list[2] if (x == 'bad')\n",
    "                  else state_color_list[3] for x in data_subset.DESCRIPTION]\n",
    "        ax = fig.add_subplot(num_rows,num_cols,position[v])\n",
    "        sns.barplot(x=data_subset[method], y=data_subset.POSE, \n",
    "                    palette=colors,\n",
    "                    orient='h', order=order, ax=ax, label=method)\n",
    "        ax.legend().set_visible(False)\n",
    "        ax.set_title(method,fontweight='bold')\n",
    "        ax.set_xlabel('SCORE')\n",
    "\n",
    "    plt.tight_layout()\n",
    "\n",
    "grid_barplot(data=all_subset, size=10, aspect=0.8)\n",
    "\n",
    "#Create custom artists\n",
    "goodArtist      = plt.Rectangle((0,0),2,1, color=state_color_list[0])\n",
    "mediumArtist    = plt.Rectangle((0,0),2,1, color=state_color_list[1])\n",
    "badArtist       = plt.Rectangle((0,0),2,1, color=state_color_list[2])\n",
    "discardedArtist = plt.Rectangle((0,0),2,1, color=state_color_list[3])\n",
    "\n",
    "#Create legend from custom artist/label lists\n",
    "_=plt.legend([goodArtist,mediumArtist,badArtist,discardedArtist],\n",
    "             ['Good', 'Medium', 'Bad', 'Discarded'], \n",
    "             bbox_to_anchor=(1, 0.9), loc='upper left', ncol=1)\n",
    "\n",
    "plt.savefig('{}/barplot_score_rmsd.png'.format(save_folder), format='png', dpi=200,bbox_inches='tight')"
   ]
  },
  {
   "cell_type": "code",
   "execution_count": 169,
   "metadata": {
    "code_folding": [
     0
    ],
    "scrolled": false
   },
   "outputs": [
    {
     "data": {
      "image/png": "[encoded data removed]",
      "text/plain": [
       "<matplotlib.figure.Figure at 0x7f973b9e4390>"
      ]
     },
     "metadata": {},
     "output_type": "display_data"
    }
   ],
   "source": [
    "# Scatter plot : score by rank\n",
    "g = sns.FacetGrid(data=all_subset ,hue='DESCRIPTION', hue_order=state_list, \n",
    "                  aspect=1.5, size=8, palette=state_color_list)\n",
    "\n",
    "g.map(plt.scatter, 'PLANTS_RANK', 'PLANTS', s=100)\n",
    "g.add_legend()\n",
    "plt.subplots_adjust(hspace=0.15,wspace=0.1)\n",
    "            \n",
    "plt.savefig('{}/scatter_rank_by_score_color_rmsd.png'.format(save_folder), format='png', dpi=200,bbox_inches='tight')"
   ]
  },
  {
   "cell_type": "code",
   "execution_count": 168,
   "metadata": {
    "code_folding": [
     0
    ],
    "scrolled": false
   },
   "outputs": [
    {
     "data": {
      "image/png": "[encoded data removed]",
      "text/plain": [
       "<matplotlib.figure.Figure at 0x7f973ba18518>"
      ]
     },
     "metadata": {},
     "output_type": "display_data"
    }
   ],
   "source": [
    "# Score by RMSD\n",
    "\n",
    "g = sns.FacetGrid(data=all_subset ,hue='DESCRIPTION', hue_order=state_list, \n",
    "                  aspect=1.5, size=8, palette=state_color_list)\n",
    "\n",
    "g.map(plt.scatter, 'RMSD', 'PLANTS', s=100)\n",
    "_=g.add_legend()\n",
    "\n",
    "plt.savefig('{}/scatter_score_by_rmsd.png'.format(save_folder), format='png', dpi=200,bbox_inches='tight')"
   ]
  },
  {
   "cell_type": "code",
   "execution_count": 206,
   "metadata": {},
   "outputs": [
    {
     "data": {
      "image/png": "[encoded data removed]",
      "text/plain": [
       "<matplotlib.figure.Figure at 0x7f973ba53e48>"
      ]
     },
     "metadata": {},
     "output_type": "display_data"
    }
   ],
   "source": [
    "# Barplot occurency of poses with RMSD within range, for different top X range selection\n",
    "\n",
    "g = sns.factorplot(kind='bar', data=occurency, \n",
    "                   x='Selection Range', y='Occurency',\n",
    "                   col='Description', col_order=['good','medium', 'bad'], col_wrap=3,\n",
    "                   aspect=0.8, size=7)\n",
    "\n",
    "_=g.set_titles('RMSD : {col_name}',fontweight='bold')\n",
    "\n",
    "plt.savefig('{}/barplot_range_selection.png'.format(save_folder), format='png', dpi=200,bbox_inches='tight')"
   ]
  },
  {
   "cell_type": "code",
   "execution_count": null,
   "metadata": {
    "collapsed": true
   },
   "outputs": [],
   "source": []
  }
 ],
 "metadata": {
  "kernelspec": {
   "display_name": "Python 3",
   "language": "python",
   "name": "python3"
  },
  "language_info": {
   "codemirror_mode": {
    "name": "ipython",
    "version": 3
   },
   "file_extension": ".py",
   "mimetype": "text/x-python",
   "name": "python",
   "nbconvert_exporter": "python",
   "pygments_lexer": "ipython3",
   "version": "3.4.3"
  },
  "latex_envs": {
   "LaTeX_envs_menu_present": true,
   "autocomplete": true,
   "bibliofile": "biblio.bib",
   "cite_by": "apalike",
   "current_citInitial": 1,
   "eqLabelWithNumbers": true,
   "eqNumInitial": 1,
   "hotkeys": {
    "equation": "Ctrl-E",
    "itemize": "Ctrl-I"
   },
   "labels_anchors": false,
   "latex_user_defs": false,
   "report_style_numbering": false,
   "user_envs_cfg": false
  },
  "toc": {
   "colors": {
    "hover_highlight": "#DAA520",
    "navigate_num": "#000000",
    "navigate_text": "#333333",
    "running_highlight": "#FF0000",
    "selected_highlight": "#FFD700",
    "sidebar_border": "#EEEEEE",
    "wrapper_background": "#FFFFFF"
   },
   "moveMenuLeft": true,
   "nav_menu": {
    "height": "286px",
    "width": "252px"
   },
   "navigate_menu": true,
   "number_sections": true,
   "sideBar": true,
   "threshold": 4,
   "toc_cell": false,
   "toc_section_display": "block",
   "toc_window_display": true,
   "widenNotebook": false
  },
  "varInspector": {
   "cols": {
    "lenName": 16,
    "lenType": 16,
    "lenVar": 40
   },
   "kernels_config": {
    "python": {
     "delete_cmd_postfix": "",
     "delete_cmd_prefix": "del ",
     "library": "var_list.py",
     "varRefreshCmd": "print(var_dic_list())"
    },
    "r": {
     "delete_cmd_postfix": ") ",
     "delete_cmd_prefix": "rm(",
     "library": "var_list.r",
     "varRefreshCmd": "cat(var_dic_list()) "
    }
   },
   "types_to_exclude": [
    "module",
    "function",
    "builtin_function_or_method",
    "instance",
    "_Feature"
   ],
   "window_display": false
  }
 },
 "nbformat": 4,
 "nbformat_minor": 2
}
